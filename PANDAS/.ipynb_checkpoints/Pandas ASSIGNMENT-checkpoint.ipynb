{
 "cells": [
  {
   "cell_type": "code",
   "execution_count": null,
   "metadata": {},
   "outputs": [],
   "source": []
  },
  {
   "cell_type": "code",
   "execution_count": 15,
   "metadata": {},
   "outputs": [
    {
     "name": "stdout",
     "output_type": "stream",
     "text": [
      "   col1  col2\n",
      "0     1     5\n",
      "1     2     6\n",
      "2     3     7\n",
      "3     4     8\n",
      "0    11    14\n",
      "1    12    15\n",
      "2    13    16 \n",
      " \n",
      "    col1  col2  col1  col2\n",
      "0  11.0  14.0     1     5\n",
      "1  12.0  15.0     2     6\n",
      "2  13.0  16.0     3     7\n",
      "3   NaN   NaN     4     8\n"
     ]
    }
   ],
   "source": [
    "#2. Write a program to concat two DataFrames. \n",
    "import pandas as pd\n",
    "\n",
    "df1={'col1':[1,2,3,4],'col2':[5,6,7,8]}\n",
    "df2={'col1':[11,12,13],'col2':[14,15,16]}\n",
    "df_1 = pd.DataFrame(df1)\n",
    "df_2 = pd.DataFrame(df2)\n",
    "df_1,df_2\n",
    "\n",
    "df3 = pd.concat([df_1,df_2],axis=0)\n",
    "df4 = pd.concat([df_2,df_1],axis=1)\n",
    "print(df3,'\\n \\n',df4)\n"
   ]
  },
  {
   "cell_type": "code",
   "execution_count": 31,
   "metadata": {},
   "outputs": [
    {
     "data": {
      "text/html": [
       "<div>\n",
       "<style scoped>\n",
       "    .dataframe tbody tr th:only-of-type {\n",
       "        vertical-align: middle;\n",
       "    }\n",
       "\n",
       "    .dataframe tbody tr th {\n",
       "        vertical-align: top;\n",
       "    }\n",
       "\n",
       "    .dataframe thead th {\n",
       "        text-align: right;\n",
       "    }\n",
       "</style>\n",
       "<table border=\"1\" class=\"dataframe\">\n",
       "  <thead>\n",
       "    <tr style=\"text-align: right;\">\n",
       "      <th></th>\n",
       "      <th>col1</th>\n",
       "      <th>col2</th>\n",
       "    </tr>\n",
       "  </thead>\n",
       "  <tbody>\n",
       "    <tr>\n",
       "      <th>0</th>\n",
       "      <td>6</td>\n",
       "      <td>10</td>\n",
       "    </tr>\n",
       "    <tr>\n",
       "      <th>1</th>\n",
       "      <td>7</td>\n",
       "      <td>11</td>\n",
       "    </tr>\n",
       "    <tr>\n",
       "      <th>2</th>\n",
       "      <td>8</td>\n",
       "      <td>12</td>\n",
       "    </tr>\n",
       "    <tr>\n",
       "      <th>3</th>\n",
       "      <td>9</td>\n",
       "      <td>13</td>\n",
       "    </tr>\n",
       "  </tbody>\n",
       "</table>\n",
       "</div>"
      ],
      "text/plain": [
       "   col1  col2\n",
       "0     6    10\n",
       "1     7    11\n",
       "2     8    12\n",
       "3     9    13"
      ]
     },
     "execution_count": 31,
     "metadata": {},
     "output_type": "execute_result"
    }
   ],
   "source": [
    "#3. Write a program to perform custom addition function on a DataFrame. \n",
    "\n",
    "import pandas as pd\n",
    "df_3 = pd.DataFrame(df1)\n",
    "df_4 = df_3 + 3\n",
    "df_3.add(5,axis=0)"
   ]
  },
  {
   "cell_type": "code",
   "execution_count": 46,
   "metadata": {},
   "outputs": [
    {
     "name": "stdout",
     "output_type": "stream",
     "text": [
      "  Std_id    Name  Marks\n",
      "0     s1   vivek     19\n",
      "1     s2  Rachit     18\n",
      "2     s3   Pooja     17\n",
      "3     s4  Dharmi     17\n",
      "\n",
      "   Std_id   Name  Marks\n",
      "0     s5    Jay     16\n",
      "1     s6  Jimmy     17\n",
      "2     s7  Kiran     18\n",
      "3     s8   Urvi     19\n",
      "\n",
      "   Std_id  exam_id\n",
      "0     s1        1\n",
      "1     s2        2\n",
      "2     s3        3\n",
      "3     s4        4\n",
      "4     s5        5\n",
      "5     s6        6\n",
      "6     s7        7\n",
      "7     s8        8\n",
      "Mergeing Tables: \n",
      "   Std_id    Name  Marks  exam_id\n",
      "0     s1   vivek     19        1\n",
      "1     s2  Rachit     18        2\n",
      "2     s3   Pooja     17        3\n",
      "3     s4  Dharmi     17        4\n",
      "4     s5     Jay     16        5\n",
      "5     s6   Jimmy     17        6\n",
      "6     s7   Kiran     18        7\n",
      "7     s8    Urvi     19        8\n"
     ]
    }
   ],
   "source": [
    "#4. Write a program to merge two DataFrames. \n",
    "import pandas as pd\n",
    "\n",
    "student_tb1 = pd.DataFrame({'Std_id':['s1','s2','s3','s4'],\n",
    "              'Name':['vivek','Rachit','Pooja','Dharmi',],\n",
    "              'Marks':[19,18,17,17]})\n",
    "\n",
    "student_tb2 = pd.DataFrame({'Std_id':['s5','s6','s7','s8'],\n",
    "              'Name':['Jay','Jimmy','Kiran','Urvi'],\n",
    "              'Marks':[16,17,18,19]})\n",
    "\n",
    "exam_td = pd.DataFrame({'Std_id':['s1','s2','s3','s4','s5','s6','s7','s8'],\n",
    "          'exam_id':[1,2,3,4,5,6,7,8]})\n",
    "\n",
    "print(student_tb1)\n",
    "print('\\n',student_tb2)\n",
    "print('\\n',exam_td)\n",
    "result_td = pd.concat([student_tb1,student_tb2])\n",
    "print('Mergeing Tables: \\n',pd.merge(result_td,exam_td,on='Std_id'))"
   ]
  },
  {
   "cell_type": "code",
   "execution_count": 56,
   "metadata": {},
   "outputs": [
    {
     "name": "stdout",
     "output_type": "stream",
     "text": [
      "   col1  col2  col1  col2\n",
      "0  11.0  14.0     1     5\n",
      "1  12.0  15.0     2     6\n",
      "2  13.0  16.0     3     7\n",
      "3   NaN   NaN     4     8\n",
      "\n",
      " NaN places are filled by 1: \n",
      " \n",
      "     col1  col2  col1  col2\n",
      "0  11.0  14.0     1     5\n",
      "1  12.0  15.0     2     6\n",
      "2  13.0  16.0     3     7\n",
      "3   1.0   1.0     4     8\n"
     ]
    }
   ],
   "source": [
    "#5. Write a program to handle missing data from DataFrame. \n",
    "\n",
    "print(df4)\n",
    "df5 = df4.fillna(1)\n",
    "print('\\n NaN places are filled by 1: \\n \\n ',df5)"
   ]
  },
  {
   "cell_type": "code",
   "execution_count": 70,
   "metadata": {},
   "outputs": [
    {
     "name": "stdout",
     "output_type": "stream",
     "text": [
      "     City  Visits  People\n",
      "0   Surat   20.42      13\n",
      "1  Rajkot   17.95      14\n",
      "2   Delhi    9.70      15\n",
      "3    pune   18.00      16\n",
      "AxesSubplot(0.125,0.125;0.775x0.755)\n"
     ]
    },
    {
     "data": {
      "image/png": "[encoded data removed]",
      "text/plain": [
       "<Figure size 432x288 with 1 Axes>"
      ]
     },
     "metadata": {
      "needs_background": "light"
     },
     "output_type": "display_data"
    }
   ],
   "source": [
    "#6. Write program to create bar chart, box chart, area plot, scatter plot and pie chart from a DataFrame.\n",
    "\n",
    "import pandas as pd\n",
    "import matplotlib.pyplot as plt\n",
    "\n",
    "data = {'City':['Surat','Rajkot','Delhi','pune'],\n",
    "       'Visits':[20.42,17.95,9.7,18],\n",
    "       'People':[13,14,15,16]}\n",
    "df = pd.DataFrame(data)\n",
    "print(df)\n",
    "#Histogram\n",
    "ax = df.Visits.plot.hist()\n",
    "print(ax)"
   ]
  },
  {
   "cell_type": "code",
   "execution_count": 71,
   "metadata": {},
   "outputs": [
    {
     "name": "stdout",
     "output_type": "stream",
     "text": [
      "AxesSubplot(0.125,0.125;0.775x0.755)\n"
     ]
    },
    {
     "data": {
      "image/png": "[encoded data removed]",
      "text/plain": [
       "<Figure size 432x288 with 1 Axes>"
      ]
     },
     "metadata": {
      "needs_background": "light"
     },
     "output_type": "display_data"
    }
   ],
   "source": [
    "#bar plot\n",
    "ac = df.Visits.plot.bar()\n",
    "print(ac)"
   ]
  },
  {
   "cell_type": "code",
   "execution_count": 72,
   "metadata": {},
   "outputs": [
    {
     "name": "stdout",
     "output_type": "stream",
     "text": [
      "AxesSubplot(0.125,0.125;0.775x0.755)\n"
     ]
    },
    {
     "data": {
      "image/png": "[encoded data removed]",
      "text/plain": [
       "<Figure size 432x288 with 1 Axes>"
      ]
     },
     "metadata": {
      "needs_background": "light"
     },
     "output_type": "display_data"
    }
   ],
   "source": [
    "#Boxplot\n",
    "av = df.Visits.plot.box()\n",
    "print(av)"
   ]
  },
  {
   "cell_type": "code",
   "execution_count": 73,
   "metadata": {},
   "outputs": [
    {
     "data": {
      "image/png": "[encoded data removed]",
      "text/plain": [
       "<Figure size 432x288 with 1 Axes>"
      ]
     },
     "metadata": {},
     "output_type": "display_data"
    }
   ],
   "source": [
    "# Pie chat\n",
    "ab = df.People.plot.pie()\n",
    "print(ab)"
   ]
  },
  {
   "cell_type": "code",
   "execution_count": 78,
   "metadata": {},
   "outputs": [
    {
     "name": "stdout",
     "output_type": "stream",
     "text": [
      "AxesSubplot(0.125,0.125;0.775x0.755)\n"
     ]
    },
    {
     "data": {
      "image/png": "[encoded data removed]",
      "text/plain": [
       "<Figure size 432x288 with 1 Axes>"
      ]
     },
     "metadata": {
      "needs_background": "light"
     },
     "output_type": "display_data"
    }
   ],
   "source": [
    "#Scatter plot\n",
    "an = df.plot.scatter(x='Visits',y='People')\n",
    "print(an)"
   ]
  },
  {
   "cell_type": "code",
   "execution_count": 83,
   "metadata": {},
   "outputs": [
    {
     "name": "stdout",
     "output_type": "stream",
     "text": [
      "It will create Matrix btw number -1 to 1 : \n",
      " [[ 1.14700881 -0.37903816]\n",
      " [ 1.16976647  0.65721352]\n",
      " [ 0.86603503 -0.5059489 ]\n",
      " [-0.00962907 -0.49314968]\n",
      " [-0.36399507  0.76772639]]\n"
     ]
    }
   ],
   "source": [
    "#8. W.A.P two program Which can represent the difference between rand( and randn().\n",
    "\n",
    "import numpy as np\n",
    "\n",
    "arr = np.random.randn(5,2)\n",
    "print('It will create Matrix btw number -1 to 1 : \\n',arr)"
   ]
  },
  {
   "cell_type": "code",
   "execution_count": 85,
   "metadata": {},
   "outputs": [
    {
     "name": "stdout",
     "output_type": "stream",
     "text": [
      "1D Array filled with random values : \n",
      " [0.56013858 0.25535245 0.05792587 0.29209426 0.29821737]\n"
     ]
    }
   ],
   "source": [
    "# numpy.random.rand() method\n",
    "\n",
    "import numpy as np\n",
    "\n",
    "# 1D Array\n",
    "array = np.random.rand(5)\n",
    "print(\"1D Array filled with random values : \\n\", array);\n"
   ]
  },
  {
   "cell_type": "code",
   "execution_count": 93,
   "metadata": {},
   "outputs": [
    {
     "data": {
      "text/html": [
       "<div>\n",
       "<style scoped>\n",
       "    .dataframe tbody tr th:only-of-type {\n",
       "        vertical-align: middle;\n",
       "    }\n",
       "\n",
       "    .dataframe tbody tr th {\n",
       "        vertical-align: top;\n",
       "    }\n",
       "\n",
       "    .dataframe thead th {\n",
       "        text-align: right;\n",
       "    }\n",
       "</style>\n",
       "<table border=\"1\" class=\"dataframe\">\n",
       "  <thead>\n",
       "    <tr style=\"text-align: right;\">\n",
       "      <th></th>\n",
       "      <th>Names</th>\n",
       "      <th>Visits</th>\n",
       "      <th>People</th>\n",
       "    </tr>\n",
       "  </thead>\n",
       "  <tbody>\n",
       "    <tr>\n",
       "      <th>0</th>\n",
       "      <td>Albert</td>\n",
       "      <td>20.42</td>\n",
       "      <td>13</td>\n",
       "    </tr>\n",
       "    <tr>\n",
       "      <th>1</th>\n",
       "      <td>Rajkot</td>\n",
       "      <td>17.95</td>\n",
       "      <td>14</td>\n",
       "    </tr>\n",
       "    <tr>\n",
       "      <th>2</th>\n",
       "      <td>Delhi</td>\n",
       "      <td>9.70</td>\n",
       "      <td>15</td>\n",
       "    </tr>\n",
       "    <tr>\n",
       "      <th>3</th>\n",
       "      <td>pune</td>\n",
       "      <td>18.00</td>\n",
       "      <td>16</td>\n",
       "    </tr>\n",
       "  </tbody>\n",
       "</table>\n",
       "</div>"
      ],
      "text/plain": [
       "    Names  Visits  People\n",
       "0  Albert   20.42      13\n",
       "1  Rajkot   17.95      14\n",
       "2   Delhi    9.70      15\n",
       "3    pune   18.00      16"
      ]
     },
     "execution_count": 93,
     "metadata": {},
     "output_type": "execute_result"
    }
   ],
   "source": [
    "#9. Assume that in data frame we are having the ‘Elbert’ on some position, how you are going to \n",
    "# convert that Name To ‘Albert’, Write a Program For that.\n",
    "\n",
    "import pandas as pd\n",
    "data = {'Names':['Elbert','Rajkot','Delhi','pune'],\n",
    "       'Visits':[20.42,17.95,9.7,18],\n",
    "       'People':[13,14,15,16]}\n",
    "\n",
    "df = pd.DataFrame(data)\n",
    "df['Names'] = df['Names'].replace(('Elbert'),'Albert')\n",
    "df"
   ]
  },
  {
   "cell_type": "code",
   "execution_count": 134,
   "metadata": {},
   "outputs": [
    {
     "data": {
      "text/html": [
       "<div>\n",
       "<style scoped>\n",
       "    .dataframe tbody tr th:only-of-type {\n",
       "        vertical-align: middle;\n",
       "    }\n",
       "\n",
       "    .dataframe tbody tr th {\n",
       "        vertical-align: top;\n",
       "    }\n",
       "\n",
       "    .dataframe thead th {\n",
       "        text-align: right;\n",
       "    }\n",
       "</style>\n",
       "<table border=\"1\" class=\"dataframe\">\n",
       "  <thead>\n",
       "    <tr style=\"text-align: right;\">\n",
       "      <th></th>\n",
       "      <th>Team_Name</th>\n",
       "      <th>Captain</th>\n",
       "      <th>Runs</th>\n",
       "      <th>Year</th>\n",
       "    </tr>\n",
       "  </thead>\n",
       "  <tbody>\n",
       "    <tr>\n",
       "      <th>0</th>\n",
       "      <td>RCB</td>\n",
       "      <td>Virat</td>\n",
       "      <td>900</td>\n",
       "      <td>2016</td>\n",
       "    </tr>\n",
       "    <tr>\n",
       "      <th>1</th>\n",
       "      <td>CSK</td>\n",
       "      <td>Dhoni</td>\n",
       "      <td>500</td>\n",
       "      <td>2017</td>\n",
       "    </tr>\n",
       "    <tr>\n",
       "      <th>2</th>\n",
       "      <td>MI</td>\n",
       "      <td>Rohit</td>\n",
       "      <td>400</td>\n",
       "      <td>2018</td>\n",
       "    </tr>\n",
       "    <tr>\n",
       "      <th>3</th>\n",
       "      <td>SRH</td>\n",
       "      <td>Kane</td>\n",
       "      <td>300</td>\n",
       "      <td>2019</td>\n",
       "    </tr>\n",
       "  </tbody>\n",
       "</table>\n",
       "</div>"
      ],
      "text/plain": [
       "  Team_Name Captain  Runs  Year\n",
       "0       RCB   Virat   900  2016\n",
       "1       CSK   Dhoni   500  2017\n",
       "2        MI   Rohit   400  2018\n",
       "3       SRH    Kane   300  2019"
      ]
     },
     "execution_count": 134,
     "metadata": {},
     "output_type": "execute_result"
    }
   ],
   "source": [
    "# 10. You are having Some dataFrame of IPL ,\n",
    "#Column 1 = Team Name \n",
    "#Column 2 = Team Captain name\n",
    "#Column 3 = Total Run by The Team \n",
    "#Column 4 = Year\n",
    "\n",
    "import pandas as pd\n",
    "\n",
    "data = {'Team_Name':['RCB','CSK','MI','SRH'],\n",
    "                   'Captain':['Virat','Dhoni','Rohit','Kane'],\n",
    "                   'Runs':[900,500,400,300],\n",
    "                   'Year':[2016,2017,2018,2019]}\n",
    "IPL = pd.DataFrame(data)\n",
    "IPL"
   ]
  },
  {
   "cell_type": "code",
   "execution_count": 135,
   "metadata": {},
   "outputs": [
    {
     "data": {
      "text/html": [
       "<div>\n",
       "<style scoped>\n",
       "    .dataframe tbody tr th:only-of-type {\n",
       "        vertical-align: middle;\n",
       "    }\n",
       "\n",
       "    .dataframe tbody tr th {\n",
       "        vertical-align: top;\n",
       "    }\n",
       "\n",
       "    .dataframe thead th {\n",
       "        text-align: right;\n",
       "    }\n",
       "</style>\n",
       "<table border=\"1\" class=\"dataframe\">\n",
       "  <thead>\n",
       "    <tr style=\"text-align: right;\">\n",
       "      <th></th>\n",
       "      <th>Runs</th>\n",
       "      <th>Year</th>\n",
       "    </tr>\n",
       "  </thead>\n",
       "  <tbody>\n",
       "    <tr>\n",
       "      <th>0</th>\n",
       "      <td>900</td>\n",
       "      <td>2016</td>\n",
       "    </tr>\n",
       "    <tr>\n",
       "      <th>1</th>\n",
       "      <td>500</td>\n",
       "      <td>2017</td>\n",
       "    </tr>\n",
       "    <tr>\n",
       "      <th>2</th>\n",
       "      <td>400</td>\n",
       "      <td>2018</td>\n",
       "    </tr>\n",
       "    <tr>\n",
       "      <th>3</th>\n",
       "      <td>300</td>\n",
       "      <td>2019</td>\n",
       "    </tr>\n",
       "  </tbody>\n",
       "</table>\n",
       "</div>"
      ],
      "text/plain": [
       "   Runs  Year\n",
       "0   900  2016\n",
       "1   500  2017\n",
       "2   400  2018\n",
       "3   300  2019"
      ]
     },
     "execution_count": 135,
     "metadata": {},
     "output_type": "execute_result"
    }
   ],
   "source": [
    "#10.1 Write A Pandas Function which can Give the output as Year Vise Run \n",
    "IPL = IPL[['Runs','Year']]\n",
    "IPL"
   ]
  },
  {
   "cell_type": "code",
   "execution_count": null,
   "metadata": {},
   "outputs": [],
   "source": []
  },
  {
   "cell_type": "code",
   "execution_count": null,
   "metadata": {},
   "outputs": [],
   "source": []
  }
 ],
 "metadata": {
  "kernelspec": {
   "display_name": "Python 3 (ipykernel)",
   "language": "python",
   "name": "python3"
  },
  "language_info": {
   "codemirror_mode": {
    "name": "ipython",
    "version": 3
   },
   "file_extension": ".py",
   "mimetype": "text/x-python",
   "name": "python",
   "nbconvert_exporter": "python",
   "pygments_lexer": "ipython3",
   "version": "3.9.7"
  }
 },
 "nbformat": 4,
 "nbformat_minor": 4
}
