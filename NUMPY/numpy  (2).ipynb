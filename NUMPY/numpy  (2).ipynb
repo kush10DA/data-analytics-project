{
 "cells": [
  {
   "cell_type": "code",
   "execution_count": 4,
   "id": "aa812ef3",
   "metadata": {},
   "outputs": [],
   "source": [
    "import numpy as np"
   ]
  },
  {
   "cell_type": "code",
   "execution_count": 11,
   "id": "939a6985",
   "metadata": {},
   "outputs": [
    {
     "name": "stdout",
     "output_type": "stream",
     "text": [
      "[0.48537214 0.76834831 0.72309538 0.02255373 0.58831625 0.44210242\n",
      " 0.41176784 0.52548855 0.454815   0.9586159  0.9494268  0.11269628\n",
      " 0.34265925 0.43690338 0.91032451]\n",
      "[[0.48537214 0.76834831 0.72309538 0.02255373 0.58831625]\n",
      " [0.44210242 0.41176784 0.52548855 0.454815   0.9586159 ]\n",
      " [0.9494268  0.11269628 0.34265925 0.43690338 0.91032451]]\n",
      "[[0.48537214 0.76834831 0.72309538]\n",
      " [0.02255373 0.58831625 0.44210242]\n",
      " [0.41176784 0.52548855 0.454815  ]\n",
      " [0.9586159  0.9494268  0.11269628]\n",
      " [0.34265925 0.43690338 0.91032451]]\n"
     ]
    }
   ],
   "source": [
    "a=np.random.random((15))\n",
    "print(a)\n",
    "A=a.reshape(3,5)\n",
    "print(A)\n",
    "A=a.reshape(5,3)\n",
    "print(A)\n"
   ]
  },
  {
   "cell_type": "code",
   "execution_count": 38,
   "id": "ced4b6a9",
   "metadata": {
    "scrolled": true
   },
   "outputs": [
    {
     "name": "stdout",
     "output_type": "stream",
     "text": [
      "Input array :  [31, 32, 33, 34, 35, 36, 37, 38, 39, 40]\n",
      "Output array :  [3.4339872  3.4657359  3.49650756 3.52636052 3.55534806 3.58351894\n",
      " 3.61091791 3.63758616 3.66356165 3.68887945]\n"
     ]
    }
   ],
   "source": [
    "array = [31,32,33,34,35,36,37,38,39,40]\n",
    "print (\"Input array : \", array)\n",
    "array2 = np.log(array)\n",
    "print (\"Output array : \", array2)\n"
   ]
  },
  {
   "cell_type": "code",
   "execution_count": 13,
   "id": "5c2974f3",
   "metadata": {},
   "outputs": [
    {
     "name": "stdout",
     "output_type": "stream",
     "text": [
      "Matrix  : \n",
      " [[0 0]\n",
      " [0 0]\n",
      " [0 0]]\n",
      "\n",
      "\n",
      "Matr : \n",
      " [[1 1]\n",
      " [1 1]\n",
      " [1 1]]\n"
     ]
    }
   ],
   "source": [
    "ba= np.zeros([3, 2], dtype = int) \n",
    "print(\"Matrix  : \\n\", a) \n",
    "print(\"\\n\")\n",
    "b = np.ones([3, 2], dtype =int)\n",
    "print(\"Matr : \\n\", b)"
   ]
  },
  {
   "cell_type": "code",
   "execution_count": 44,
   "id": "2a364cfc",
   "metadata": {},
   "outputs": [
    {
     "name": "stdout",
     "output_type": "stream",
     "text": [
      "[['apple' 'banana' 'cherry']\n",
      " ['mango' 'chikoo' 'strawberry']]\n",
      "<class 'numpy.ndarray'>\n"
     ]
    }
   ],
   "source": [
    "arr = np.array([['apple', 'banana', 'cherry'],['mango','chikoo', 'strawberry']])\n",
    "print(arr)\n",
    "print(type(arr))"
   ]
  },
  {
   "cell_type": "code",
   "execution_count": 45,
   "id": "106e1fdd",
   "metadata": {},
   "outputs": [
    {
     "name": "stdout",
     "output_type": "stream",
     "text": [
      "[1, 5, 9]\n",
      "[3, 7, 11]\n",
      "[[1, 3], [5, 7], [9, 11]]\n",
      "([1, 5, 9], [3, 7, 11])\n",
      "--------------------------------\n",
      "[10, 10, 10]\n",
      "[10, 10, 10]\n",
      "[10, 10, 10]\n"
     ]
    }
   ],
   "source": [
    "X = [[1,3], [5,7], [9,11]]\n",
    "\n",
    "Y = [0, 0, 0], [0, 0, 0]\n",
    "\n",
    "for i in range (len (X)):\n",
    " \n",
    "              for j in range (len (X[0])):\n",
    "\n",
    "                             Y [j][i] = X [i][j]\n",
    "\n",
    "for r in Y:\n",
    "\n",
    "              print (r)\n",
    "print(X)        \n",
    "print(Y)\n",
    "print('--------------------------------')\n",
    "A = [[1,2,3],\n",
    "    [4 ,5,6],\n",
    "    [7 ,8,9]]\n",
    " \n",
    "B = [[9,8,7],\n",
    "    [6,5,4],\n",
    "    [3,2,1]]\n",
    " \n",
    " \n",
    "result = [[0,0,0],\n",
    "        [0,0,0],\n",
    "        [0,0,0]]\n",
    "\n",
    "for i in range(len(A)): \n",
    "     for j in range(len(A[0])):\n",
    "        result[i][j] = A[i][j] + B[i][j]\n",
    "for R in result:\n",
    "    print(R)"
   ]
  },
  {
   "cell_type": "code",
   "execution_count": 47,
   "id": "77369ae4",
   "metadata": {},
   "outputs": [
    {
     "name": "stdout",
     "output_type": "stream",
     "text": [
      "['krushang' 'patel']\n",
      "['krushang', 'u', 'patel']\n",
      "k-r-u-s-h-a-n-g\n",
      "['hello xyz']\n",
      "Hello Hello Hello \n",
      "*******hello********\n",
      "Hello world\n",
      "Hello How Are You?\n",
      "['HELLO' 'WORLD']\n",
      "['hello', 'how are you?']\n",
      "He was a bad boy\n",
      "b'\\x88\\x85\\x93\\x93\\x96'\n",
      "hello\n",
      "b'\\x88\\x85\\x93\\x93\\x96'\n"
     ]
    }
   ],
   "source": [
    "# numpy.lower() function\n",
    "print(np.char.lower(['krushang', 'patel']))\n",
    "# numpy.split() function\n",
    "print(np.char.split('krushang u patel'))\n",
    "# numpy.join() function\n",
    "print(np.char.join('-', 'krushang'))\n",
    "# numpy.add() function\n",
    "print(np.char.add(['hello'],[' xyz']) )\n",
    "# numpy.multiply() function\n",
    "print(np.char.multiply('Hello ',3))\n",
    "# numpy.center() function\n",
    "print(np.char.center('hello', 20,fillchar = '*'))\n",
    "# numpy.capitalize() function\n",
    "print(np.char.capitalize('hello world'))\n",
    "# numpy.title() function\n",
    "print(np.char.title('hello how are you?'))\n",
    "# numpy.upper() function\n",
    "print(np.char.upper(['hello','world']))\n",
    "# numpy.splitlines() function\n",
    "print(np.char.splitlines('hello\\nhow are you?') )\n",
    "# numpy.replace() function\n",
    "print(np.char.replace('He is a bad boy', 'is', 'was'))\n",
    "# numpy.decode() function\n",
    "a = np.char.encode('hello', 'cp500') \n",
    "print(a) \n",
    "print(np.char.decode(a,'cp500'))\n",
    "# numpy.encode() function\n",
    "a = np.char.encode('hello', 'cp500') \n",
    "print(a)"
   ]
  },
  {
   "cell_type": "code",
   "execution_count": 48,
   "id": "94254213",
   "metadata": {},
   "outputs": [
    {
     "name": "stdout",
     "output_type": "stream",
     "text": [
      "First array:\n",
      "[[0. 1. 2.]\n",
      " [3. 4. 5.]\n",
      " [6. 7. 8.]]\n",
      "\n",
      "\n",
      "Second array:\n",
      "[10 10 10]\n",
      "\n",
      "\n",
      "Add the two arrays:\n",
      "[[10. 11. 12.]\n",
      " [13. 14. 15.]\n",
      " [16. 17. 18.]]\n",
      "\n",
      "\n",
      "Subtract the two arrays:\n",
      "[[-10.  -9.  -8.]\n",
      " [ -7.  -6.  -5.]\n",
      " [ -4.  -3.  -2.]]\n",
      "\n",
      "\n",
      "Multiply the two arrays:\n",
      "[[ 0. 10. 20.]\n",
      " [30. 40. 50.]\n",
      " [60. 70. 80.]]\n",
      "\n",
      "\n",
      "Divide the two arrays:\n",
      "[[0.  0.1 0.2]\n",
      " [0.3 0.4 0.5]\n",
      " [0.6 0.7 0.8]]\n"
     ]
    }
   ],
   "source": [
    "a = np.arange(9, dtype = np.float_).reshape(3,3) \n",
    "\n",
    "print( 'First array:' )\n",
    "print( a) \n",
    "print ('\\n')  \n",
    "\n",
    "print ('Second array:' )\n",
    "b = np.array([10,10,10]) \n",
    "print (b )\n",
    "print ('\\n')  \n",
    "\n",
    "print ('Add the two arrays:' )\n",
    "print (np.add(a,b) )\n",
    "print ('\\n')  \n",
    "\n",
    "print ('Subtract the two arrays:' )\n",
    "print (np.subtract(a,b) )\n",
    "print ('\\n'  )\n",
    "\n",
    "print ('Multiply the two arrays:' )\n",
    "print (np.multiply(a,b) )\n",
    "print ('\\n'  )\n",
    "\n",
    "print ('Divide the two arrays:' )\n",
    "print (np.divide(a,b))"
   ]
  },
  {
   "cell_type": "code",
   "execution_count": 49,
   "id": "b75ebf42",
   "metadata": {},
   "outputs": [
    {
     "name": "stdout",
     "output_type": "stream",
     "text": [
      "The element wise addition of matrix is : \n",
      "[[ 6  8]\n",
      " [10 12]]\n",
      "The element wise subtraction of matrix is : \n",
      "[[-4 -4]\n",
      " [-4 -4]]\n",
      "The element wise division of matrix is : \n",
      "[[0.2        0.33333333]\n",
      " [0.42857143 0.5       ]]\n",
      "The element wise multiplication of matrix is : \n",
      "[[ 5 12]\n",
      " [21 32]]\n",
      "The product of matrices is : \n",
      "[[19 22]\n",
      " [43 50]]\n",
      "The element wise square root is : \n",
      "[[1.         1.41421356]\n",
      " [1.73205081 2.        ]]\n",
      "The summation of all matrix element is : \n",
      "26\n",
      "The column wise summation of all matrix  is : \n",
      "[12 14]\n",
      "The row wise summation of all matrix  is : \n",
      "[11 15]\n",
      "The transpose of given matrix is : \n",
      "[[1 3]\n",
      " [2 4]]\n"
     ]
    }
   ],
   "source": [
    "x = np.array([[1, 2], [3, 4]])\n",
    "y = np.array([[5, 6], [7, 8]])\n",
    "  \n",
    "# using add() to add matrices\n",
    "print (\"The element wise addition of matrix is : \")\n",
    "print (np.add(x,y))\n",
    "\n",
    "# using subtract() to subtract matrices\n",
    "print (\"The element wise subtraction of matrix is : \")\n",
    "print (np.subtract(x,y))\n",
    "  \n",
    "# using divide() to divide matrices\n",
    "print (\"The element wise division of matrix is : \")\n",
    "print (np.divide(x,y))\n",
    "\n",
    "# using multiply() to multiply matrices element wise\n",
    "print (\"The element wise multiplication of matrix is : \")\n",
    "print (np.multiply(x,y))\n",
    "  \n",
    "# using dot() to multiply matrices\n",
    "print (\"The product of matrices is : \")\n",
    "print (np.dot(x,y))\n",
    "\n",
    "# using sqrt() to print the square root of matrix\n",
    "print (\"The element wise square root is : \")\n",
    "print (np.sqrt(x))\n",
    "  \n",
    "# using sum() to print summation of all elements of matrix\n",
    "print (\"The summation of all matrix element is : \")\n",
    "print (np.sum(y))\n",
    "  \n",
    "# using sum(axis=0) to print summation of all columns of matrix\n",
    "print (\"The column wise summation of all matrix  is : \")\n",
    "print (np.sum(y,axis=0))\n",
    "  \n",
    "# using sum(axis=1) to print summation of all columns of matrix\n",
    "print (\"The row wise summation of all matrix  is : \")\n",
    "print (np.sum(y,axis=1))\n",
    "  \n",
    "# using \"T\" to transpose the matrix\n",
    "print (\"The transpose of given matrix is : \")\n",
    "print (x.T)"
   ]
  },
  {
   "cell_type": "code",
   "execution_count": 50,
   "id": "f5216cbc",
   "metadata": {},
   "outputs": [
    {
     "name": "stdout",
     "output_type": "stream",
     "text": [
      "[[ 5 10 15]\n",
      " [20 12 28]]\n"
     ]
    },
    {
     "data": {
      "text/plain": [
       "array([15, 20, 28])"
      ]
     },
     "execution_count": 50,
     "metadata": {},
     "output_type": "execute_result"
    }
   ],
   "source": [
    "arr =np.array([[5 , 10 , 15 ] ,[20,12,28]])\n",
    "print(arr)\n",
    "arr[arr>12]"
   ]
  },
  {
   "cell_type": "code",
   "execution_count": 51,
   "id": "448e1967",
   "metadata": {},
   "outputs": [
    {
     "name": "stdout",
     "output_type": "stream",
     "text": [
      "[ 1.59139242  0.47808774  0.28711702 -0.17085146 -1.04590274]\n"
     ]
    }
   ],
   "source": [
    "r = np.random.normal(size=5)\n",
    "print(r)"
   ]
  },
  {
   "cell_type": "code",
   "execution_count": 14,
   "id": "3774a90e",
   "metadata": {},
   "outputs": [
    {
     "name": "stdout",
     "output_type": "stream",
     "text": [
      "Largest in given array is 980\n"
     ]
    }
   ],
   "source": [
    "def largest(arr,n):\n",
    "    return (max(arr))\n",
    "arr = [25, 424, 545, 190, 980]\n",
    "n = len(arr)\n",
    "Ans = largest(arr,n)\n",
    "print (\"Largest in given array is\",Ans)"
   ]
  },
  {
   "cell_type": "code",
   "execution_count": 15,
   "id": "ed5c9da7",
   "metadata": {},
   "outputs": [
    {
     "name": "stdout",
     "output_type": "stream",
     "text": [
      "Original array:\n",
      "[[ 10  20  30]\n",
      " [ 11  22  33]\n",
      " [111 222 333]]\n",
      "Mean of each column:\n",
      "[ 44.  88. 132.]\n",
      "Mean of each row:\n",
      "[ 20.  22. 222.]\n"
     ]
    }
   ],
   "source": [
    "x = np.array([[ 10 , 20 ,30 ] , [ 11 ,22 ,33] , [111,222,333]])\n",
    "print(\"Original array:\")\n",
    "print(x)\n",
    "print(\"Mean of each column:\")\n",
    "print(x.mean(axis=0))\n",
    "print(\"Mean of each row:\")\n",
    "print(x.mean(axis=1))\n"
   ]
  },
  {
   "cell_type": "code",
   "execution_count": 16,
   "id": "5259d9e8",
   "metadata": {},
   "outputs": [
    {
     "name": "stdout",
     "output_type": "stream",
     "text": [
      "[ 8  7  5  6  5  5  5 90 10]\n"
     ]
    }
   ],
   "source": [
    "array = np.array([ 8, 7, -5, 6, 0, 3, 2, 90 ,10 ])\n",
    "\n",
    "array[array < 5] = 5\n",
    "print(array)"
   ]
  },
  {
   "cell_type": "code",
   "execution_count": 18,
   "id": "8ec1449a",
   "metadata": {},
   "outputs": [
    {
     "name": "stdout",
     "output_type": "stream",
     "text": [
      "arr2[] is subset of arr1[] \n"
     ]
    }
   ],
   "source": [
    "arr1 = [22,55,2,66,5,6]\n",
    "arr2 = [2,5,6]\n",
    "m = len(arr1) \n",
    "n = len(arr2) \n",
    "s = set()\n",
    "for i in range(m) :\n",
    "    s.add(arr1[i])\n",
    "    \n",
    "p = len(s)\n",
    "for i in range(n) :\n",
    "    s.add(arr2[i])\n",
    "if (len(s) == p) :\n",
    "    print(\"arr2[] is subset of arr1[] \")\n",
    "else :\n",
    "    print(\"arr2[] is not subset of arr1[] \")"
   ]
  }
 ],
 "metadata": {
  "kernelspec": {
   "display_name": "Python 3 (ipykernel)",
   "language": "python",
   "name": "python3"
  },
  "language_info": {
   "codemirror_mode": {
    "name": "ipython",
    "version": 3
   },
   "file_extension": ".py",
   "mimetype": "text/x-python",
   "name": "python",
   "nbconvert_exporter": "python",
   "pygments_lexer": "ipython3",
   "version": "3.9.7"
  }
 },
 "nbformat": 4,
 "nbformat_minor": 5
}
