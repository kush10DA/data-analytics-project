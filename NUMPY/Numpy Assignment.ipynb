{
 "cells": [
  {
   "cell_type": "code",
   "execution_count": 2,
   "id": "65e83689",
   "metadata": {},
   "outputs": [],
   "source": [
    "import numpy as np"
   ]
  },
  {
   "cell_type": "code",
   "execution_count": 2,
   "id": "f80dc033",
   "metadata": {},
   "outputs": [
    {
     "ename": "SyntaxError",
     "evalue": "invalid syntax (Temp/ipykernel_12520/1858177921.py, line 2)",
     "output_type": "error",
     "traceback": [
      "\u001b[1;36m  File \u001b[1;32m\"C:\\Users\\HP\\AppData\\Local\\Temp/ipykernel_12520/1858177921.py\"\u001b[1;36m, line \u001b[1;32m2\u001b[0m\n\u001b[1;33m    =>\u001b[0m\n\u001b[1;37m    ^\u001b[0m\n\u001b[1;31mSyntaxError\u001b[0m\u001b[1;31m:\u001b[0m invalid syntax\n"
     ]
    }
   ],
   "source": [
    "# 1) Write a program to find and manipulate the shape of ndarray.\n",
    "=>\n",
    "arr = np.array( [[ 1, 2, 3],[ 4, 5, 6]] )\n",
    "print(\"Shape of array: \", arr.shape)"
   ]
  },
  {
   "cell_type": "code",
   "execution_count": 3,
   "id": "b1b47f06",
   "metadata": {},
   "outputs": [
    {
     "ename": "SyntaxError",
     "evalue": "invalid syntax (Temp/ipykernel_12520/4013101911.py, line 2)",
     "output_type": "error",
     "traceback": [
      "\u001b[1;36m  File \u001b[1;32m\"C:\\Users\\HP\\AppData\\Local\\Temp/ipykernel_12520/4013101911.py\"\u001b[1;36m, line \u001b[1;32m2\u001b[0m\n\u001b[1;33m    =>\u001b[0m\n\u001b[1;37m    ^\u001b[0m\n\u001b[1;31mSyntaxError\u001b[0m\u001b[1;31m:\u001b[0m invalid syntax\n"
     ]
    }
   ],
   "source": [
    "# 2) Write a program to find the logarithmic value of numbers from 31 to 40.    \n",
    "=>\n",
    "array = [31,32,33,34,35,36,37,38,39,40]\n",
    "print (\"Input array : \", array)\n",
    "array2 = np.log(array)\n",
    "print (\"Output array : \", array2)"
   ]
  },
  {
   "cell_type": "code",
   "execution_count": 1,
   "id": "99b6dd59",
   "metadata": {},
   "outputs": [
    {
     "ename": "SyntaxError",
     "evalue": "invalid syntax (Temp/ipykernel_14444/3634706451.py, line 2)",
     "output_type": "error",
     "traceback": [
      "\u001b[1;36m  File \u001b[1;32m\"C:\\Users\\HP\\AppData\\Local\\Temp/ipykernel_14444/3634706451.py\"\u001b[1;36m, line \u001b[1;32m2\u001b[0m\n\u001b[1;33m    =>\u001b[0m\n\u001b[1;37m    ^\u001b[0m\n\u001b[1;31mSyntaxError\u001b[0m\u001b[1;31m:\u001b[0m invalid syntax\n"
     ]
    }
   ],
   "source": [
    "# 3) Write a program to create a 3x2 matrix containing zeros and another matrix containing one only.\n",
    "=>\n",
    "ix ba = np.zeros([3, 2], dtype = int) \n",
    "print(\"Matrix a : \\n\", a) \n",
    "print(\"\\n\")\n",
    "b = np.ones([3, 2], dtype =int)\n",
    "print(\"Matr : \\n\", b)"
   ]
  },
  {
   "cell_type": "code",
   "execution_count": null,
   "id": "bd640e13",
   "metadata": {},
   "outputs": [],
   "source": [
    "# 4) Write a program to convert regular array into an ndarray."
   ]
  },
  {
   "cell_type": "code",
   "execution_count": null,
   "id": "9df80e0a",
   "metadata": {},
   "outputs": [],
   "source": [
    "# 5) Write a program to create an ndarray containing characters of a string.\n",
    "=>\n",
    "arr = np.array([['apple', 'banana', 'cherry'],['mango','chikoo', 'strawberry']])\n",
    "print(arr)\n",
    "print(type(arr))"
   ]
  },
  {
   "cell_type": "code",
   "execution_count": null,
   "id": "64698d0a",
   "metadata": {},
   "outputs": [],
   "source": [
    "# 6) Write a program to find transpose of two metrics and then perform addition on them.\n",
    "=>\n",
    "X = [[1,2], [3,4], [5,6]]\n",
    "\n",
    "Y = [0, 0, 0], [0, 0, 0]\n",
    "\n",
    "for i in range (len (X)):\n",
    " \n",
    "              for j in range (len (X[0])):\n",
    "\n",
    "                             Y [j][i] = X [i][j]\n",
    "\n",
    "for r in Y:\n",
    "\n",
    "              print (r)\n",
    "print(X)        \n",
    "print(Y)\n",
    "print('--------------------------------')\n",
    "A = [[1,2,3],\n",
    "    [4 ,5,6],\n",
    "    [7 ,8,9]]\n",
    " \n",
    "B = [[9,8,7],\n",
    "    [6,5,4],\n",
    "    [3,2,1]]\n",
    " \n",
    " \n",
    "result = [[0,0,0],\n",
    "        [0,0,0],\n",
    "        [0,0,0]]\n",
    "\n",
    "for i in range(len(A)): \n",
    "     for j in range(len(A[0])):\n",
    "        result[i][j] = A[i][j] + B[i][j]\n",
    "for R in result:\n",
    "    print(R)"
   ]
  },
  {
   "cell_type": "code",
   "execution_count": null,
   "id": "702bcec9",
   "metadata": {},
   "outputs": [],
   "source": [
    "#7) Write a program to explain various string manipulation methods on Numpy arrays.\n",
    "=>\n",
    "# numpy.lower() function\n",
    "print(np.char.lower(['TIRTHAN', 'SHAH']))\n",
    "# numpy.split() function\n",
    "print(np.char.split('tirthan h shah'))\n",
    "# numpy.join() function\n",
    "print(np.char.join('-', 'tirthan'))\n",
    "# numpy.add() function\n",
    "print(np.char.add(['hello'],[' xyz']) )\n",
    "# numpy.multiply() function\n",
    "print(np.char.multiply('Hello ',3))\n",
    "# numpy.center() function\n",
    "print(np.char.center('hello', 20,fillchar = '*'))\n",
    "# numpy.capitalize() function\n",
    "print(np.char.capitalize('hello world'))\n",
    "# numpy.title() function\n",
    "print(np.char.title('hello how are you?'))\n",
    "# numpy.upper() function\n",
    "print(np.char.upper(['hello','world']))\n",
    "# numpy.splitlines() function\n",
    "print(np.char.splitlines('hello\\nhow are you?') )\n",
    "# numpy.replace() function\n",
    "print(np.char.replace('He is a bad boy', 'is', 'was'))\n",
    "# numpy.decode() function\n",
    "a = np.char.encode('hello', 'cp500') \n",
    "print(a) \n",
    "print(np.char.decode(a,'cp500'))\n",
    "# numpy.encode() function\n",
    "a = np.char.encode('hello', 'cp500') \n",
    "print(a)"
   ]
  },
  {
   "cell_type": "code",
   "execution_count": null,
   "id": "920f5f27",
   "metadata": {},
   "outputs": [],
   "source": [
    "# 8) Write a program to perform various arithmetic functions on Numpy arrays.\n",
    "=> \n",
    "a = np.arange(9, dtype = np.float_).reshape(3,3) \n",
    "\n",
    "print( 'First array:' )\n",
    "print( a) \n",
    "print ('\\n')  \n",
    "\n",
    "print ('Second array:' )\n",
    "b = np.array([10,10,10]) \n",
    "print (b )\n",
    "print ('\\n')  \n",
    "\n",
    "print ('Add the two arrays:' )\n",
    "print (np.add(a,b) )\n",
    "print ('\\n')  \n",
    "\n",
    "print ('Subtract the two arrays:' )\n",
    "print (np.subtract(a,b) )\n",
    "print ('\\n'  )\n",
    "\n",
    "print ('Multiply the two arrays:' )\n",
    "print (np.multiply(a,b) )\n",
    "print ('\\n'  )\n",
    "\n",
    "print ('Divide the two arrays:' )\n",
    "print (np.divide(a,b))"
   ]
  },
  {
   "cell_type": "code",
   "execution_count": null,
   "id": "4b4501b7",
   "metadata": {},
   "outputs": [],
   "source": [
    "# 9) Write a program to explain matrix manipulation using ndarrays.\n",
    "=>\n",
    "x = np.array([[1, 2], [3, 4]])\n",
    "y = np.array([[5, 6], [7, 8]])\n",
    "  \n",
    "# using add() to add matrices\n",
    "print (\"The element wise addition of matrix is : \")\n",
    "print (np.add(x,y))\n",
    "  \n",
    "# using subtract() to subtract matrices\n",
    "print (\"The element wise subtraction of matrix is : \")\n",
    "print (np.subtract(x,y))\n",
    "  \n",
    "# using divide() to divide matrices\n",
    "print (\"The element wise division of matrix is : \")\n",
    "print (np.divide(x,y))\n",
    "\n",
    "# using multiply() to multiply matrices element wise\n",
    "print (\"The element wise multiplication of matrix is : \")\n",
    "print (np.multiply(x,y))\n",
    "  \n",
    "# using dot() to multiply matrices\n",
    "print (\"The product of matrices is : \")\n",
    "print (np.dot(x,y))\n",
    "\n",
    "# using sqrt() to print the square root of matrix\n",
    "print (\"The element wise square root is : \")\n",
    "print (np.sqrt(x))\n",
    "  \n",
    "# using sum() to print summation of all elements of matrix\n",
    "print (\"The summation of all matrix element is : \")\n",
    "print (np.sum(y))\n",
    "  \n",
    "# using sum(axis=0) to print summation of all columns of matrix\n",
    "print (\"The column wise summation of all matrix  is : \")\n",
    "print (np.sum(y,axis=0))\n",
    "  \n",
    "# using sum(axis=1) to print summation of all columns of matrix\n",
    "print (\"The row wise summation of all matrix  is : \")\n",
    "print (np.sum(y,axis=1))\n",
    "  \n",
    "# using \"T\" to transpose the matrix\n",
    "print (\"The transpose of given matrix is : \")\n",
    "print (x.T)\n"
   ]
  },
  {
   "cell_type": "code",
   "execution_count": null,
   "id": "989f46b8",
   "metadata": {},
   "outputs": [],
   "source": [
    "# 10) Assume That You have this Array [ [ 5 , 10 , 15 ] , [ 20 , 12 , 28 ]] , Now At output give Only that Value which is\n",
    "#Greater Than 12 .\n",
    "=>"
   ]
  },
  {
   "cell_type": "code",
   "execution_count": 5,
   "id": "fd574640",
   "metadata": {},
   "outputs": [
    {
     "name": "stdout",
     "output_type": "stream",
     "text": [
      "[[ 5 10 15]\n",
      " [20 12 28]]\n"
     ]
    },
    {
     "data": {
      "text/plain": [
       "array([15, 20, 28])"
      ]
     },
     "execution_count": 5,
     "metadata": {},
     "output_type": "execute_result"
    }
   ],
   "source": [
    "arr =np.array([[5 , 10 , 15 ] ,[20,12,28]])\n",
    "print(arr)\n",
    "arr[arr>12]"
   ]
  },
  {
   "cell_type": "code",
   "execution_count": null,
   "id": "16997721",
   "metadata": {},
   "outputs": [],
   "source": [
    "# 11) Generate the Normally distributed data using the numpy function.\n",
    "\n",
    "\n",
    "\n",
    "\n",
    "\n"
   ]
  },
  {
   "cell_type": "code",
   "execution_count": null,
   "id": "01ec0d06",
   "metadata": {},
   "outputs": [],
   "source": [
    "# 12) W.A.P to get the largest elements of the given array using numpy .\n",
    "=>\n",
    "def largest(arr,n):\n",
    "    return (max(arr))\n",
    "arr = [25, 424, 545, 190, 980]\n",
    "n = len(arr)\n",
    "Ans = largest(arr,n)\n",
    "print (\"Largest in given array is\",Ans)"
   ]
  },
  {
   "cell_type": "code",
   "execution_count": null,
   "id": "2d73ec3f",
   "metadata": {},
   "outputs": [],
   "source": [
    "# 13) Write the Code to find the mean across the dimension Of the below matrix.[[ 10 , 20 ,30 ] , [ 11 ,22 ,33] , [111,222,333]]\n",
    "=>\n",
    "x = np.array([[ 10 , 20 ,30 ] , [ 11 ,22 ,33] , [111,222,333]])\n",
    "print(\"Original array:\")\n",
    "print(x)\n",
    "print(\"Mean of each column:\")\n",
    "print(x.mean(axis=0))\n",
    "print(\"Mean of each row:\")\n",
    "print(x.mean(axis=1))\n"
   ]
  },
  {
   "cell_type": "code",
   "execution_count": null,
   "id": "4f910091",
   "metadata": {},
   "outputs": [],
   "source": [
    "# 14) Replace all the value less than 5 with 5 in given array . [ 8, 7, -5, 6, 0, 3, 2, 90 ,10 ]\n",
    "=>\n",
    "array = np.array([ 8, 7, -5, 6, 0, 3, 2, 90 ,10 ])\n",
    "\n",
    "array[array < 5] = 5\n",
    "print(array)"
   ]
  },
  {
   "cell_type": "code",
   "execution_count": null,
   "id": "79c380f4",
   "metadata": {},
   "outputs": [],
   "source": [
    "# 15) Check Whether [2,5,6] is present in [22,55,2,66,5,6]\n",
    "=>\n",
    "arr1 = [22,55,2,66,5,6]\n",
    "arr2 = [2,5,6]\n",
    "m = len(arr1) \n",
    "n = len(arr2) \n",
    "s = set()\n",
    "for i in range(m) :\n",
    "    s.add(arr1[i])\n",
    "    \n",
    "p = len(s)\n",
    "for i in range(n) :\n",
    "    s.add(arr2[i])\n",
    "if (len(s) == p) :\n",
    "    print(\"arr2[] is subset of arr1[] \")\n",
    "else :\n",
    "    print(\"arr2[] is not subset of arr1[] \")\n"
   ]
  },
  {
   "cell_type": "markdown",
   "id": "021266c0",
   "metadata": {},
   "source": [
    "## OR"
   ]
  },
  {
   "cell_type": "code",
   "execution_count": null,
   "id": "b0802428",
   "metadata": {},
   "outputs": [],
   "source": [
    "=> \n",
    "import numpy as np\n",
    "x = np.array([2,5,6])\n",
    "y= np.arrray([22,55,2,66,5,6])\n",
    "\n",
    "x_len = 0\n",
    "for ele in np.nditer(x):\n",
    "    if ele in y:\n",
    "        x_len=+1\n",
    "        \n",
    "print(x_len)\n",
    "\n",
    "if x_len == len(x):\n",
    "    print(\"subset present\")\n",
    "else:\n",
    "    print(\"subset not present\")"
   ]
  }
 ],
 "metadata": {
  "kernelspec": {
   "display_name": "Python 3 (ipykernel)",
   "language": "python",
   "name": "python3"
  },
  "language_info": {
   "codemirror_mode": {
    "name": "ipython",
    "version": 3
   },
   "file_extension": ".py",
   "mimetype": "text/x-python",
   "name": "python",
   "nbconvert_exporter": "python",
   "pygments_lexer": "ipython3",
   "version": "3.9.7"
  }
 },
 "nbformat": 4,
 "nbformat_minor": 5
}
